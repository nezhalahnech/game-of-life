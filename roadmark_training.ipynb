{
  "cells": [
    {
      "cell_type": "markdown",
      "metadata": {
        "id": "view-in-github",
        "colab_type": "text"
      },
      "source": [
        "<a href=\"https://colab.research.google.com/github/nezhalahnech/game-of-life/blob/master/roadmark_training.ipynb\" target=\"_parent\"><img src=\"https://colab.research.google.com/assets/colab-badge.svg\" alt=\"Open In Colab\"/></a>"
      ]
    },
    {
      "cell_type": "code",
      "execution_count": null,
      "id": "ceca6c59",
      "metadata": {
        "id": "ceca6c59"
      },
      "outputs": [],
      "source": [
        "from google.colab import files\n",
        "uploaded = files.upload()   # اختاري ملف .zip من جهازك\n"
      ]
    },
    {
      "cell_type": "code",
      "execution_count": null,
      "id": "72e230a5",
      "metadata": {
        "id": "72e230a5"
      },
      "outputs": [],
      "source": [
        "!unzip /content/ROADMARK.zip -d /content/ROADMARK"
      ]
    },
    {
      "cell_type": "code",
      "execution_count": null,
      "id": "7420739b",
      "metadata": {
        "colab": {
          "base_uri": "https://localhost:8080/"
        },
        "id": "7420739b",
        "outputId": "80193048-58e6-4090-a1d1-6476795068d3"
      },
      "outputs": [
        {
          "output_type": "stream",
          "name": "stdout",
          "text": [
            "ROADMARK/\n",
            "    README.roboflow.txt\n",
            "    README.dataset.txt\n",
            "    data.yaml\n",
            "    test/\n",
            "        images/\n",
            "            618d_jpg.rf.1cc699d237b8fe7a55f69ad4e2d85754.jpg\n",
            "            868c_jpg.rf.a5fb446ed0d34d9fc99e961b091eccb7.jpg\n",
            "            218b_jpg.rf.19781ebb54ac5952a187ac13edb45960.jpg\n",
            "            653b_jpg.rf.5d63b76d67abaed121e50f56dcdeff12.jpg\n",
            "            878a_jpg.rf.54bf46cb7c056766c700b08dc8acbacd.jpg\n",
            "        labels/\n",
            "            307a_jpg.rf.2a6687571cfdea1f1d17dba193f387ff.txt\n",
            "            235d_jpg.rf.aad6f7e785dc2398583384a18a52a7a7.txt\n",
            "            723_jpg.rf.3e56ec6db5e7d414d98fb24ea4277943.txt\n",
            "            201a_jpg.rf.b34d8dc165f51d7447ee655348fba867.txt\n",
            "            575_jpg.rf.29dbd2a5323d942449dbfad5b91ae098.txt\n",
            "    valid/\n",
            "        labels.cache\n",
            "        images/\n",
            "            263c_jpg.rf.c112ccc3168c2d6295e936cce5ccad97.jpg\n",
            "            380b_jpg.rf.20f45b4c27a98ef38e08bd7231da4cbb.jpg\n",
            "            776a_jpg.rf.8e93e8495d0b407d70e2eca35666e179.jpg\n",
            "            176b_jpg.rf.333561e58ac1aa88d799ea6c6270d293.jpg\n",
            "            379_jpg.rf.5c37facec5c6d589b2588c8461d0ecd3.jpg\n",
            "        labels/\n",
            "            225a_jpg.rf.94212b79724c2201d0930ffdbeefcabe.txt\n",
            "            16_jpg.rf.b7e8178e57cb8456d2183ad7caff9a60.txt\n",
            "            134d_jpg.rf.05557f42406056d2ea5d6fb3e9c9e6f3.txt\n",
            "            815a_jpg.rf.d2d1545d7b0f5fd5ef7a948cf2dff22e.txt\n",
            "            621_jpg.rf.5eeda8be1e56ec7b19f7d60a46d6c754.txt\n",
            "    train/\n",
            "        labels.cache\n",
            "        images/\n",
            "            234a_jpg.rf.c8bafd1a55e088224f9ec73b53dc0a8a.jpg\n",
            "            615_jpg.rf.c1b509aae46b8bd08e8da430cd352a18.jpg\n",
            "            287_jpg.rf.1286069490d665a61203286e38314acf.jpg\n",
            "            620b_jpg.rf.a9e54bac82ee3c262185c893789fd4b2.jpg\n",
            "            798a_jpg.rf.e86c1fb57aea3f5f00b2e682290f801d.jpg\n",
            "        labels/\n",
            "            740b_jpg.rf.d79b8df5b35bf71bcc55789229480314.txt\n",
            "            434b_jpg.rf.0bd6e4b25ea6cec75bc851d7c49e5492.txt\n",
            "            30b_jpg.rf.624a6fd41e32e74aaa51c4f51a714bf8.txt\n",
            "            510_jpg.rf.4d1780427f584529efdba163ceb36e24.txt\n",
            "            946a_jpg.rf.561e9e01dfb1699f96ffb0118af547e7.txt\n"
          ]
        }
      ],
      "source": [
        "import os\n",
        "\n",
        "for root, dirs, files in os.walk(\"/content/ROADMARK\"):\n",
        "    level = root.replace(\"/content/ROADMARK\", \"\").count(os.sep)\n",
        "    indent = \" \" * (4 * level)\n",
        "    print(f\"{indent}{os.path.basename(root)}/\")\n",
        "    subindent = \" \" * (4 * (level + 1))\n",
        "    for f in files[:5]:  # نوري غير أول 5 ملفات باش مايطولش\n",
        "        print(f\"{subindent}{f}\")\n"
      ]
    },
    {
      "cell_type": "code",
      "execution_count": null,
      "id": "c0d4abba",
      "metadata": {
        "colab": {
          "base_uri": "https://localhost:8080/"
        },
        "id": "c0d4abba",
        "outputId": "790c61b8-acb1-488a-a872-0b1dab2692b3"
      },
      "outputs": [
        {
          "output_type": "stream",
          "name": "stdout",
          "text": [
            "Requirement already satisfied: ultralytics in /usr/local/lib/python3.12/dist-packages (8.3.198)\n",
            "Requirement already satisfied: numpy>=1.23.0 in /usr/local/lib/python3.12/dist-packages (from ultralytics) (2.0.2)\n",
            "Requirement already satisfied: matplotlib>=3.3.0 in /usr/local/lib/python3.12/dist-packages (from ultralytics) (3.10.0)\n",
            "Requirement already satisfied: opencv-python>=4.6.0 in /usr/local/lib/python3.12/dist-packages (from ultralytics) (4.12.0.88)\n",
            "Requirement already satisfied: pillow>=7.1.2 in /usr/local/lib/python3.12/dist-packages (from ultralytics) (11.3.0)\n",
            "Requirement already satisfied: pyyaml>=5.3.1 in /usr/local/lib/python3.12/dist-packages (from ultralytics) (6.0.2)\n",
            "Requirement already satisfied: requests>=2.23.0 in /usr/local/lib/python3.12/dist-packages (from ultralytics) (2.32.4)\n",
            "Requirement already satisfied: scipy>=1.4.1 in /usr/local/lib/python3.12/dist-packages (from ultralytics) (1.16.1)\n",
            "Requirement already satisfied: torch>=1.8.0 in /usr/local/lib/python3.12/dist-packages (from ultralytics) (2.8.0+cu126)\n",
            "Requirement already satisfied: torchvision>=0.9.0 in /usr/local/lib/python3.12/dist-packages (from ultralytics) (0.23.0+cu126)\n",
            "Requirement already satisfied: psutil in /usr/local/lib/python3.12/dist-packages (from ultralytics) (5.9.5)\n",
            "Requirement already satisfied: polars in /usr/local/lib/python3.12/dist-packages (from ultralytics) (1.25.2)\n",
            "Requirement already satisfied: ultralytics-thop>=2.0.0 in /usr/local/lib/python3.12/dist-packages (from ultralytics) (2.0.17)\n",
            "Requirement already satisfied: contourpy>=1.0.1 in /usr/local/lib/python3.12/dist-packages (from matplotlib>=3.3.0->ultralytics) (1.3.3)\n",
            "Requirement already satisfied: cycler>=0.10 in /usr/local/lib/python3.12/dist-packages (from matplotlib>=3.3.0->ultralytics) (0.12.1)\n",
            "Requirement already satisfied: fonttools>=4.22.0 in /usr/local/lib/python3.12/dist-packages (from matplotlib>=3.3.0->ultralytics) (4.59.2)\n",
            "Requirement already satisfied: kiwisolver>=1.3.1 in /usr/local/lib/python3.12/dist-packages (from matplotlib>=3.3.0->ultralytics) (1.4.9)\n",
            "Requirement already satisfied: packaging>=20.0 in /usr/local/lib/python3.12/dist-packages (from matplotlib>=3.3.0->ultralytics) (25.0)\n",
            "Requirement already satisfied: pyparsing>=2.3.1 in /usr/local/lib/python3.12/dist-packages (from matplotlib>=3.3.0->ultralytics) (3.2.3)\n",
            "Requirement already satisfied: python-dateutil>=2.7 in /usr/local/lib/python3.12/dist-packages (from matplotlib>=3.3.0->ultralytics) (2.9.0.post0)\n",
            "Requirement already satisfied: charset_normalizer<4,>=2 in /usr/local/lib/python3.12/dist-packages (from requests>=2.23.0->ultralytics) (3.4.3)\n",
            "Requirement already satisfied: idna<4,>=2.5 in /usr/local/lib/python3.12/dist-packages (from requests>=2.23.0->ultralytics) (3.10)\n",
            "Requirement already satisfied: urllib3<3,>=1.21.1 in /usr/local/lib/python3.12/dist-packages (from requests>=2.23.0->ultralytics) (2.5.0)\n",
            "Requirement already satisfied: certifi>=2017.4.17 in /usr/local/lib/python3.12/dist-packages (from requests>=2.23.0->ultralytics) (2025.8.3)\n",
            "Requirement already satisfied: filelock in /usr/local/lib/python3.12/dist-packages (from torch>=1.8.0->ultralytics) (3.19.1)\n",
            "Requirement already satisfied: typing-extensions>=4.10.0 in /usr/local/lib/python3.12/dist-packages (from torch>=1.8.0->ultralytics) (4.15.0)\n",
            "Requirement already satisfied: setuptools in /usr/local/lib/python3.12/dist-packages (from torch>=1.8.0->ultralytics) (75.2.0)\n",
            "Requirement already satisfied: sympy>=1.13.3 in /usr/local/lib/python3.12/dist-packages (from torch>=1.8.0->ultralytics) (1.13.3)\n",
            "Requirement already satisfied: networkx in /usr/local/lib/python3.12/dist-packages (from torch>=1.8.0->ultralytics) (3.5)\n",
            "Requirement already satisfied: jinja2 in /usr/local/lib/python3.12/dist-packages (from torch>=1.8.0->ultralytics) (3.1.6)\n",
            "Requirement already satisfied: fsspec in /usr/local/lib/python3.12/dist-packages (from torch>=1.8.0->ultralytics) (2025.3.0)\n",
            "Requirement already satisfied: nvidia-cuda-nvrtc-cu12==12.6.77 in /usr/local/lib/python3.12/dist-packages (from torch>=1.8.0->ultralytics) (12.6.77)\n",
            "Requirement already satisfied: nvidia-cuda-runtime-cu12==12.6.77 in /usr/local/lib/python3.12/dist-packages (from torch>=1.8.0->ultralytics) (12.6.77)\n",
            "Requirement already satisfied: nvidia-cuda-cupti-cu12==12.6.80 in /usr/local/lib/python3.12/dist-packages (from torch>=1.8.0->ultralytics) (12.6.80)\n",
            "Requirement already satisfied: nvidia-cudnn-cu12==9.10.2.21 in /usr/local/lib/python3.12/dist-packages (from torch>=1.8.0->ultralytics) (9.10.2.21)\n",
            "Requirement already satisfied: nvidia-cublas-cu12==12.6.4.1 in /usr/local/lib/python3.12/dist-packages (from torch>=1.8.0->ultralytics) (12.6.4.1)\n",
            "Requirement already satisfied: nvidia-cufft-cu12==11.3.0.4 in /usr/local/lib/python3.12/dist-packages (from torch>=1.8.0->ultralytics) (11.3.0.4)\n",
            "Requirement already satisfied: nvidia-curand-cu12==10.3.7.77 in /usr/local/lib/python3.12/dist-packages (from torch>=1.8.0->ultralytics) (10.3.7.77)\n",
            "Requirement already satisfied: nvidia-cusolver-cu12==11.7.1.2 in /usr/local/lib/python3.12/dist-packages (from torch>=1.8.0->ultralytics) (11.7.1.2)\n",
            "Requirement already satisfied: nvidia-cusparse-cu12==12.5.4.2 in /usr/local/lib/python3.12/dist-packages (from torch>=1.8.0->ultralytics) (12.5.4.2)\n",
            "Requirement already satisfied: nvidia-cusparselt-cu12==0.7.1 in /usr/local/lib/python3.12/dist-packages (from torch>=1.8.0->ultralytics) (0.7.1)\n",
            "Requirement already satisfied: nvidia-nccl-cu12==2.27.3 in /usr/local/lib/python3.12/dist-packages (from torch>=1.8.0->ultralytics) (2.27.3)\n",
            "Requirement already satisfied: nvidia-nvtx-cu12==12.6.77 in /usr/local/lib/python3.12/dist-packages (from torch>=1.8.0->ultralytics) (12.6.77)\n",
            "Requirement already satisfied: nvidia-nvjitlink-cu12==12.6.85 in /usr/local/lib/python3.12/dist-packages (from torch>=1.8.0->ultralytics) (12.6.85)\n",
            "Requirement already satisfied: nvidia-cufile-cu12==1.11.1.6 in /usr/local/lib/python3.12/dist-packages (from torch>=1.8.0->ultralytics) (1.11.1.6)\n",
            "Requirement already satisfied: triton==3.4.0 in /usr/local/lib/python3.12/dist-packages (from torch>=1.8.0->ultralytics) (3.4.0)\n",
            "Requirement already satisfied: six>=1.5 in /usr/local/lib/python3.12/dist-packages (from python-dateutil>=2.7->matplotlib>=3.3.0->ultralytics) (1.17.0)\n",
            "Requirement already satisfied: mpmath<1.4,>=1.1.0 in /usr/local/lib/python3.12/dist-packages (from sympy>=1.13.3->torch>=1.8.0->ultralytics) (1.3.0)\n",
            "Requirement already satisfied: MarkupSafe>=2.0 in /usr/local/lib/python3.12/dist-packages (from jinja2->torch>=1.8.0->ultralytics) (3.0.2)\n"
          ]
        }
      ],
      "source": [
        "# install ultralytics (YOLOv8)\n",
        "!pip install ultralytics"
      ]
    },
    {
      "cell_type": "code",
      "execution_count": null,
      "id": "8365872a",
      "metadata": {
        "id": "8365872a"
      },
      "outputs": [],
      "source": [
        "import os\n",
        "\n",
        "def clean_labels(labels_path, remove_ids=[\"0\",\"1\"]):  # hna 7t IDs dyal خطوط الطريق\n",
        "    for filename in os.listdir(labels_path):\n",
        "        if filename.endswith(\".txt\"):\n",
        "            filepath = os.path.join(labels_path, filename)\n",
        "            with open(filepath, \"r\") as f:\n",
        "                lines = f.readlines()\n",
        "            new_lines = [line for line in lines if line.split()[0] not in remove_ids]\n",
        "            with open(filepath, \"w\") as f:\n",
        "                f.writelines(new_lines)\n",
        "\n",
        "# Apply 3la train/valid/test\n",
        "clean_labels(\"/content/ROADMARK/train/labels\")\n",
        "clean_labels(\"/content/ROADMARK/valid/labels\")\n",
        "clean_labels(\"/content/ROADMARK/test/labels\")\n"
      ]
    },
    {
      "cell_type": "code",
      "execution_count": null,
      "id": "97ea0a62",
      "metadata": {
        "colab": {
          "base_uri": "https://localhost:8080/"
        },
        "id": "97ea0a62",
        "outputId": "d40a97d9-a1c4-4d6f-ba6b-51a9083e7396"
      },
      "outputs": [
        {
          "output_type": "stream",
          "name": "stdout",
          "text": [
            "Ultralytics 8.3.198 🚀 Python-3.12.11 torch-2.8.0+cu126 CPU (Intel Xeon CPU @ 2.20GHz)\n",
            "\u001b[34m\u001b[1mengine/trainer: \u001b[0magnostic_nms=False, amp=True, augment=False, auto_augment=randaugment, batch=16, bgr=0.0, box=7.5, cache=False, cfg=None, classes=None, close_mosaic=10, cls=0.5, compile=False, conf=None, copy_paste=0.0, copy_paste_mode=flip, cos_lr=False, cutmix=0.0, data=/content/ROADMARK/data.yaml, degrees=0.0, deterministic=True, device=cpu, dfl=1.5, dnn=False, dropout=0.0, dynamic=False, embed=None, epochs=50, erasing=0.4, exist_ok=False, fliplr=0.5, flipud=0.0, format=torchscript, fraction=1.0, freeze=None, half=False, hsv_h=0.015, hsv_s=0.7, hsv_v=0.4, imgsz=640, int8=False, iou=0.7, keras=False, kobj=1.0, line_width=None, lr0=0.01, lrf=0.01, mask_ratio=4, max_det=300, mixup=0.0, mode=train, model=yolov8n.pt, momentum=0.937, mosaic=1.0, multi_scale=False, name=roadmark_cleaned4, nbs=64, nms=False, opset=None, optimize=False, optimizer=auto, overlap_mask=True, patience=100, perspective=0.0, plots=True, pose=12.0, pretrained=True, profile=False, project=None, rect=False, resume=False, retina_masks=False, save=True, save_conf=False, save_crop=False, save_dir=/content/runs/detect/roadmark_cleaned4, save_frames=False, save_json=False, save_period=-1, save_txt=False, scale=0.5, seed=0, shear=0.0, show=False, show_boxes=True, show_conf=True, show_labels=True, simplify=True, single_cls=False, source=None, split=val, stream_buffer=False, task=detect, time=None, tracker=botsort.yaml, translate=0.1, val=True, verbose=True, vid_stride=1, visualize=False, warmup_bias_lr=0.1, warmup_epochs=3.0, warmup_momentum=0.8, weight_decay=0.0005, workers=8, workspace=None\n",
            "Overriding model.yaml nc=80 with nc=12\n",
            "\n",
            "                   from  n    params  module                                       arguments                     \n",
            "  0                  -1  1       464  ultralytics.nn.modules.conv.Conv             [3, 16, 3, 2]                 \n",
            "  1                  -1  1      4672  ultralytics.nn.modules.conv.Conv             [16, 32, 3, 2]                \n",
            "  2                  -1  1      7360  ultralytics.nn.modules.block.C2f             [32, 32, 1, True]             \n",
            "  3                  -1  1     18560  ultralytics.nn.modules.conv.Conv             [32, 64, 3, 2]                \n",
            "  4                  -1  2     49664  ultralytics.nn.modules.block.C2f             [64, 64, 2, True]             \n",
            "  5                  -1  1     73984  ultralytics.nn.modules.conv.Conv             [64, 128, 3, 2]               \n",
            "  6                  -1  2    197632  ultralytics.nn.modules.block.C2f             [128, 128, 2, True]           \n",
            "  7                  -1  1    295424  ultralytics.nn.modules.conv.Conv             [128, 256, 3, 2]              \n",
            "  8                  -1  1    460288  ultralytics.nn.modules.block.C2f             [256, 256, 1, True]           \n",
            "  9                  -1  1    164608  ultralytics.nn.modules.block.SPPF            [256, 256, 5]                 \n",
            " 10                  -1  1         0  torch.nn.modules.upsampling.Upsample         [None, 2, 'nearest']          \n",
            " 11             [-1, 6]  1         0  ultralytics.nn.modules.conv.Concat           [1]                           \n",
            " 12                  -1  1    148224  ultralytics.nn.modules.block.C2f             [384, 128, 1]                 \n",
            " 13                  -1  1         0  torch.nn.modules.upsampling.Upsample         [None, 2, 'nearest']          \n",
            " 14             [-1, 4]  1         0  ultralytics.nn.modules.conv.Concat           [1]                           \n",
            " 15                  -1  1     37248  ultralytics.nn.modules.block.C2f             [192, 64, 1]                  \n",
            " 16                  -1  1     36992  ultralytics.nn.modules.conv.Conv             [64, 64, 3, 2]                \n",
            " 17            [-1, 12]  1         0  ultralytics.nn.modules.conv.Concat           [1]                           \n",
            " 18                  -1  1    123648  ultralytics.nn.modules.block.C2f             [192, 128, 1]                 \n",
            " 19                  -1  1    147712  ultralytics.nn.modules.conv.Conv             [128, 128, 3, 2]              \n",
            " 20             [-1, 9]  1         0  ultralytics.nn.modules.conv.Concat           [1]                           \n",
            " 21                  -1  1    493056  ultralytics.nn.modules.block.C2f             [384, 256, 1]                 \n",
            " 22        [15, 18, 21]  1    753652  ultralytics.nn.modules.head.Detect           [12, [64, 128, 256]]          \n",
            "Model summary: 129 layers, 3,013,188 parameters, 3,013,172 gradients, 8.2 GFLOPs\n",
            "\n",
            "Transferred 319/355 items from pretrained weights\n",
            "Freezing layer 'model.22.dfl.conv.weight'\n",
            "\u001b[34m\u001b[1mtrain: \u001b[0mFast image access ✅ (ping: 0.0±0.0 ms, read: 1006.7±261.6 MB/s, size: 58.8 KB)\n",
            "\u001b[K\u001b[34m\u001b[1mtrain: \u001b[0mScanning /content/ROADMARK/train/labels.cache... 2268 images, 72 backgrounds, 0 corrupt: 100% ━━━━━━━━━━━━ 2268/2268 2.7Mit/s 0.0s\n",
            "\u001b[34m\u001b[1malbumentations: \u001b[0mBlur(p=0.01, blur_limit=(3, 7)), MedianBlur(p=0.01, blur_limit=(3, 7)), ToGray(p=0.01, method='weighted_average', num_output_channels=3), CLAHE(p=0.01, clip_limit=(1.0, 4.0), tile_grid_size=(8, 8))\n",
            "\u001b[34m\u001b[1mval: \u001b[0mFast image access ✅ (ping: 0.0±0.0 ms, read: 1130.3±540.0 MB/s, size: 56.3 KB)\n",
            "\u001b[K\u001b[34m\u001b[1mval: \u001b[0mScanning /content/ROADMARK/valid/labels.cache... 432 images, 25 backgrounds, 0 corrupt: 100% ━━━━━━━━━━━━ 432/432 524.0Kit/s 0.0s\n",
            "Plotting labels to /content/runs/detect/roadmark_cleaned4/labels.jpg... \n",
            "\u001b[34m\u001b[1moptimizer:\u001b[0m 'optimizer=auto' found, ignoring 'lr0=0.01' and 'momentum=0.937' and determining best 'optimizer', 'lr0' and 'momentum' automatically... \n",
            "\u001b[34m\u001b[1moptimizer:\u001b[0m AdamW(lr=0.000625, momentum=0.9) with parameter groups 57 weight(decay=0.0), 64 weight(decay=0.0005), 63 bias(decay=0.0)\n",
            "Image sizes 640 train, 640 val\n",
            "Using 0 dataloader workers\n",
            "Logging results to \u001b[1m/content/runs/detect/roadmark_cleaned4\u001b[0m\n",
            "Starting training for 50 epochs...\n",
            "\n",
            "      Epoch    GPU_mem   box_loss   cls_loss   dfl_loss  Instances       Size\n",
            "\u001b[K       1/50         0G       1.39      3.116      1.211         81        640: 100% ━━━━━━━━━━━━ 142/142 0.1it/s 33:34\n",
            "\u001b[K                 Class     Images  Instances      Box(P          R      mAP50  mAP50-95): 100% ━━━━━━━━━━━━ 14/14 0.1it/s 2:40\n",
            "                   all        432       1944      0.735      0.259      0.252      0.145\n",
            "\n",
            "      Epoch    GPU_mem   box_loss   cls_loss   dfl_loss  Instances       Size\n",
            "\u001b[K       2/50         0G      1.254       2.07      1.112        122        640: 33% ━━━╸──────── 47/142 0.1it/s 11:27<22:36"
          ]
        }
      ],
      "source": [
        "from ultralytics import YOLO\n",
        "\n",
        "# Load model (yolov8n = nano, tu peux changer)\n",
        "model = YOLO(\"yolov8n.pt\")\n",
        "\n",
        "# Start training\n",
        "model.train(\n",
        "    data=\"/content/ROADMARK/data.yaml\",  # path dyal dataset config\n",
        "    epochs=50,\n",
        "    imgsz=640,\n",
        "    batch=16,\n",
        "    name=\"roadmark_cleaned\"\n",
        ")\n"
      ]
    },
    {
      "cell_type": "code",
      "execution_count": null,
      "id": "8f56ae1e",
      "metadata": {
        "id": "8f56ae1e"
      },
      "outputs": [],
      "source": [
        "from ultralytics import YOLO\n",
        "\n",
        "# Load model (yolov8n = nano, tu peux changer)\n",
        "model = YOLO(\"yolov8n.pt\")\n",
        "\n",
        "# Start training\n",
        "model.train(\n",
        "    data=\"/content/ROADMARK/data.yaml\",  # path dyal dataset config\n",
        "    epochs=50,\n",
        "    imgsz=640,\n",
        "    batch=16,\n",
        "    name=\"roadmark_cleaned\"\n",
        ")\n"
      ]
    },
    {
      "cell_type": "code",
      "execution_count": null,
      "id": "e7f177bb",
      "metadata": {
        "id": "e7f177bb"
      },
      "outputs": [],
      "source": [
        "from ultralytics import YOLO\n",
        "\n",
        "# Load trained model\n",
        "model = YOLO(\"/content/runs/detect/roadmark_cleaned3/weights/best.pt\")\n",
        "\n",
        "# Evaluate on test set\n",
        "metrics = model.val()\n",
        "print(metrics)"
      ]
    },
    {
      "cell_type": "code",
      "execution_count": null,
      "id": "fdee59e9",
      "metadata": {
        "id": "fdee59e9"
      },
      "outputs": [],
      "source": [
        "import yaml\n",
        "\n",
        "dataset_yaml = {\n",
        "    \"path\": \"/content/ROADMARK\",\n",
        "    \"train\": \"train/images\",\n",
        "    \"val\": \"valid/images\",\n",
        "    \"test\": \"test/images\",\n",
        "    \"names\": [\"arrow\", \"crosswalk\", \"stop\", \"bus\"]\n",
        "}\n",
        "\n",
        "with open(\"roadmark.yaml\", \"w\") as f:\n",
        "    yaml.dump(dataset_yaml, f, default_flow_style=False)\n",
        "\n",
        "print(open(\"roadmark.yaml\").read())"
      ]
    },
    {
      "cell_type": "code",
      "execution_count": null,
      "id": "5c6a7b74",
      "metadata": {
        "id": "5c6a7b74"
      },
      "outputs": [],
      "source": [
        "from ultralytics import YOLO\n",
        "\n",
        "# load pretrained YOLOv8 model (small)\n",
        "model = YOLO(\"yolov8s.pt\")\n",
        "\n",
        "# train on the cleaned dataset\n",
        "model.train(data=\"roadmark.yaml\", epochs=50, imgsz=640, batch=16)"
      ]
    },
    {
      "cell_type": "code",
      "execution_count": null,
      "id": "a5deebb3",
      "metadata": {
        "id": "a5deebb3"
      },
      "outputs": [],
      "source": [
        "# Evaluate on validation/test set\n",
        "metrics = model.val()\n",
        "\n",
        "# Print metrics\n",
        "print(metrics)"
      ]
    }
  ],
  "metadata": {
    "colab": {
      "provenance": [],
      "gpuType": "T4",
      "runtime_attributes": {
        "runtime_version": "2025.07"
      },
      "include_colab_link": true
    },
    "accelerator": "GPU",
    "language_info": {
      "name": "python"
    },
    "kernelspec": {
      "name": "python3",
      "display_name": "Python 3"
    }
  },
  "nbformat": 4,
  "nbformat_minor": 5
}